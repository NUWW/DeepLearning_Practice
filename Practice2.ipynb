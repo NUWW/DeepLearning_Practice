{
 "cells": [
  {
   "cell_type": "markdown",
   "metadata": {},
   "source": [
    "# Deep learning from scratch: homework 2"
   ]
  },
  {
   "cell_type": "code",
   "execution_count": null,
   "metadata": {
    "collapsed": true
   },
   "outputs": [],
   "source": [
    "Name: Weiguang Wang; NetID: wwg7031"
   ]
  },
  {
   "cell_type": "markdown",
   "metadata": {},
   "source": [
    "### General instructions"
   ]
  },
  {
   "cell_type": "markdown",
   "metadata": {},
   "source": [
    "Complete the exercises listed below in this Jupyter notebook - leaving all of your code in Python cells in the notebook itself.  Feel free to add any necessary cells."
   ]
  },
  {
   "cell_type": "markdown",
   "metadata": {},
   "source": [
    "#### <span style=\"color:#a50e3e;\">Exercise 1. </span>   Perform two-class classification on a toy dataset"
   ]
  },
  {
   "cell_type": "markdown",
   "metadata": {},
   "source": [
    "Code up the two-class logistic regression / softmax cost function, using gradient descent to minimize.  You should use the two class toy dataset we [we saw in class](https://jermwatt.github.io/mlrefined/presentations/courses/deep_learning/Lecture_3_logistic_regression.slides.html#/14/1) to test out your code.  This dataset is in the file called *3d_classification_data_v2.csv*.\n",
    "\n",
    "Create a plot with two panels that shows the number of misclassifications at each gradient descent step (in the left panel), and one that compares the cost function at each gradient descent step (in the right panel).  You won't get perfect separation - but you should be able to separate most of the points."
   ]
  },
  {
   "cell_type": "code",
   "execution_count": 8,
   "metadata": {
    "scrolled": true
   },
   "outputs": [
    {
     "data": {
      "image/png": "[encoded data removed]",
      "text/plain": [
       "<matplotlib.figure.Figure at 0x10e568ac8>"
      ]
     },
     "metadata": {},
     "output_type": "display_data"
    }
   ],
   "source": [
    "import autograd.numpy as np\n",
    "import matplotlib.pyplot as plt\n",
    "from autograd import grad\n",
    "\n",
    "# data input\n",
    "csvname = '3d_classification_data_v2.csv'\n",
    "data = np.loadtxt(csvname,delimiter = ',')\n",
    "\n",
    "\n",
    "#softmax cost function\n",
    "x = data[:, :-1]\n",
    "y = data[:, -1]\n",
    "w = np.ones(np.shape(x)[1] + 1)\n",
    "cost_history = []\n",
    "\n",
    "def softmax(w):\n",
    "    \n",
    "    w_0 = w[0]\n",
    "    w_vars = w[1:]\n",
    "    cost = w_0 + np.dot(x, w_vars)\n",
    "    costArray = np.log(1 + np.exp(-y * cost))\n",
    "    return np.sum(costArray)\n",
    "    \n",
    "# gradient_descent function:\n",
    "def gradient_descent(g,alpha,max_its,w):\n",
    "    # compute the gradient of our input function - note this is a function too!\n",
    "    gradient = grad(g)\n",
    "\n",
    "    # run the gradient descent loop\n",
    "    best_w = w        # weight we return, should be the one providing lowest evaluation\n",
    "    weight_history =[]\n",
    "    best_eval = g(w)       # lowest evaluation yet\n",
    "    for k in range(max_its):\n",
    "        # evaluate the gradient\n",
    "        grad_eval = gradient(w)\n",
    "\n",
    "        # take gradient descent step\n",
    "        w = w - alpha*grad_eval\n",
    "\n",
    "        # return only the weight providing the lowest evaluation\n",
    "        test_eval = g(w)\n",
    "        if test_eval < best_eval:\n",
    "            cost_history.append(test_eval)\n",
    "            best_eval = test_eval\n",
    "            best_w = w\n",
    "            weight_history.append(best_w);\n",
    "            \n",
    "    return weight_history\n",
    "\n",
    "weight_history = gradient_descent(softmax, 0.005, 100, w)\n",
    "\n",
    "def misClass(weight_history):\n",
    "    num = []\n",
    "    for p in range(len(weight_history)):\n",
    "        numVal = 0   \n",
    "        cur_w = weight_history[p]\n",
    "        \n",
    "        w_0 = cur_w[0]\n",
    "        w_vars = cur_w[1:]\n",
    "        cost = w_0 + np.dot(x, w_vars)\n",
    "        for p in range(len(cost)):\n",
    "            if(y[p] != np.sign(cost[p])):\n",
    "                 numVal = numVal + 1\n",
    "        num.append(numVal)\n",
    "        \n",
    "    return num\n",
    "\n",
    "num = misClass(weight_history)\n",
    "\n",
    "fig, ax = plt.subplots(1, 2, figsize=(6, 3))\n",
    "xlable = np.linspace(0,len(num), len(num))\n",
    "ax[0].plot(xlable, num)\n",
    "ax[1].plot(xlable, cost_history)\n",
    "plt.show()\n"
   ]
  },
  {
   "cell_type": "markdown",
   "metadata": {},
   "source": [
    "#### <span style=\"color:#a50e3e;\">Exercise 2. </span>   Perform two-class classification on a breast cancer dataset"
   ]
  },
  {
   "cell_type": "markdown",
   "metadata": {},
   "source": [
    "Use the softmax cost function to classify healthy from cancerous tissue using the dataset located in breast_cancer_dataset.csv (included in this homework folder).  You can examine the description of this dataset [here](https://archive.ics.uci.edu/ml/datasets/Breast+Cancer+Wisconsin+(Diagnostic)). \n",
    "\n",
    "There are $N = 8$ input dimensions to the input of this dataset (these are the first $N = 8$ columns of the breast_cancer_dataset.csv, the last column are the associated labels).  Fit using gradient descent using a maximum of 5,000 iterations.  You should be able to reach a point on the surface where you misclassify less than 30 examples."
   ]
  },
  {
   "cell_type": "markdown",
   "metadata": {},
   "source": [
    "**Note:** Python is a great prototyping language but [it is slow](http://jakevdp.github.io/blog/2014/05/09/why-python-is-slow/), particular when evaluating explicit for loops.  If you are having speed issues try re-writing the softmax cost function using as few explicit for-loops as possible (you can indeed write the entire summation in a single line of Python code, for-loop free)."
   ]
  },
  {
   "cell_type": "code",
   "execution_count": 9,
   "metadata": {},
   "outputs": [
    {
     "data": {
      "image/png": "[encoded data removed]",
      "text/plain": [
       "<matplotlib.figure.Figure at 0x10e589438>"
      ]
     },
     "metadata": {},
     "output_type": "display_data"
    }
   ],
   "source": [
    "import autograd.numpy as np\n",
    "import matplotlib.pyplot as plt\n",
    "from autograd import grad\n",
    "\n",
    "# data input\n",
    "csvname = 'breast_cancer_data.csv'\n",
    "data = np.loadtxt(csvname,delimiter = ',')\n",
    "\n",
    "\n",
    "#softmax cost function\n",
    "x = data[:, :-1]\n",
    "y = data[:, -1]\n",
    "w = np.ones(np.shape(x)[1] + 1)\n",
    "\n",
    "def softmax(w):\n",
    "    \n",
    "    w_0 = w[0]\n",
    "    w_vars = w[1:]\n",
    "    cost = w_0 + np.dot(x, w_vars)\n",
    "    costArray = np.log(1 + np.exp(-y * cost))\n",
    "    return np.sum(costArray)\n",
    "\n",
    "# gradient_descent function:\n",
    "def gradient_descent(g,alpha,max_its,w):\n",
    "    # compute the gradient of our input function - note this is a function too!\n",
    "    gradient = grad(g)\n",
    "\n",
    "    # run the gradient descent loop\n",
    "    best_w = w        # weight we return, should be the one providing lowest evaluation\n",
    "    weight_history =[]\n",
    "    best_eval = g(w)       # lowest evaluation yet\n",
    "    for k in range(max_its):\n",
    "        # evaluate the gradient\n",
    "        grad_eval = gradient(w)\n",
    "\n",
    "        # take gradient descent step\n",
    "        w = w - alpha*grad_eval\n",
    "\n",
    "        # return only the weight providing the lowest evaluation\n",
    "        test_eval = g(w)\n",
    "        if test_eval < best_eval:\n",
    "            best_eval = test_eval\n",
    "            best_w = w\n",
    "            weight_history.append(best_w);\n",
    "            \n",
    "    return weight_history\n",
    "\n",
    "weight_history = gradient_descent(softmax, 0.0015, 5000, w)\n",
    "\n",
    "def misClass(weight_history):\n",
    "    num = []\n",
    "    for p in range(len(weight_history)):\n",
    "        numVal = 0   \n",
    "        cur_w = weight_history[p]\n",
    "        \n",
    "        w_0 = cur_w[0]\n",
    "        w_vars = cur_w[1:]\n",
    "        cost = w_0 + np.dot(x, w_vars)\n",
    "        for p in range(len(cost)):\n",
    "            if(y[p] != np.sign(cost[p])):\n",
    "                 numVal = numVal + 1\n",
    "                 \n",
    "        num.append(numVal)\n",
    "        \n",
    "    return num\n",
    "\n",
    "num = misClass(weight_history)\n",
    "\n",
    "fig, ax = plt.subplots(1, 1, figsize=(6, 3))\n",
    "xlable = np.linspace(0,len(num), len(num))\n",
    "fixValue = np.ones(np.shape(xlable)) * 30\n",
    "\n",
    "ax.plot(xlable, num)\n",
    "ax.plot(xlable, fixValue)\n",
    "ax.legend(['Number of Misclassification','Number of Misclassification = 30'],loc='center left',bbox_to_anchor=(1, 0.5))\n",
    "\n",
    "plt.show()"
   ]
  },
  {
   "cell_type": "markdown",
   "metadata": {
    "collapsed": true
   },
   "source": [
    "#### <span style=\"color:#a50e3e;\">Exercise 3. </span>   Code up One-versus-All multiclass classification"
   ]
  },
  {
   "cell_type": "markdown",
   "metadata": {},
   "source": [
    "Using the toy $C = 3$ class dataset we saw [in class](https://jermwatt.github.io/mlrefined/presentations/courses/deep_learning/Lecture_5_one_versus_all.slides.html#/) - located in *3class_data.csv* - code up One-Versus-All classification, using this toy dataset to test out your code.  You should be able to learn a model that perfectly separates this data - as shown in class.  You may use your softmax cost / gradient descent code here for each of the two-class subproblems! "
   ]
  },
  {
   "cell_type": "code",
   "execution_count": 3,
   "metadata": {},
   "outputs": [
    {
     "data": {
      "image/png": "[encoded data removed]",
      "text/plain": [
       "<matplotlib.figure.Figure at 0x1117182e8>"
      ]
     },
     "metadata": {},
     "output_type": "display_data"
    }
   ],
   "source": [
    "import autograd.numpy as np\n",
    "import matplotlib.pyplot as plt\n",
    "import copy\n",
    "from autograd import grad\n",
    "\n",
    "# data input\n",
    "csvname = '3class_data.csv'\n",
    "data = np.loadtxt(csvname,delimiter = ',')\n",
    "w = np.ones(np.shape(data)[1])\n",
    "\n",
    "#tmp label array        \n",
    "def get_label(b, target):\n",
    "    res = [[0 for i in range(len(b[0]))] for i in range(len(b[:, 0]))]\n",
    "    for i in range(len(b[:,2])):\n",
    "        res[i] = copy.deepcopy(b[i])\n",
    "        if (b[i][2] == target):\n",
    "            res[i][2] = 1\n",
    "        else:\n",
    "            res[i][2] = -1\n",
    "    res = np.asarray(res)\n",
    "    return res\n",
    "\n",
    "d_r = get_label(data, 1)\n",
    "d_b = get_label(data, 2)\n",
    "d_g = get_label(data, 3)\n",
    "\n",
    "x = d_r[:, :-1]\n",
    "y = d_r[:, -1]\n",
    "\n",
    "def softmax(w):\n",
    "    \n",
    "    w_0 = w[0]\n",
    "    w_vars = w[1:]\n",
    "    cost = w_0 + np.dot(x, w_vars)\n",
    "    costArray = np.log(1 + np.exp(-y * cost))\n",
    "    return np.sum(costArray)\n",
    "\n",
    "# gradient_descent function:\n",
    "def gradient_descent(g,alpha,max_its,w):\n",
    "    # compute the gradient of our input function - note this is a function too!\n",
    "    \n",
    "    gradient = grad(g)\n",
    "\n",
    "    # run the gradient descent loop\n",
    "    best_w = w        # weight we return, should be the one providing lowest evaluation\n",
    "    best_eval = g(w)       # lowest evaluation yet\n",
    "    for k in range(max_its):\n",
    "        # evaluate the gradient\n",
    "        grad_eval = gradient(w)\n",
    "\n",
    "        # take gradient descent step\n",
    "        w = w - alpha*grad_eval\n",
    "\n",
    "        # return only the weight providing the lowest evaluation\n",
    "        test_eval = g(w)\n",
    "        if test_eval < best_eval:\n",
    "            best_eval = test_eval\n",
    "            best_w = w\n",
    "            \n",
    "    return best_w\n",
    "\n",
    "# distance calculate\n",
    "best_wr = gradient_descent(softmax, 0.01, 800, w)\n",
    "norm_r = np.sqrt(np.sum((best_wr[1:]**2)))\n",
    "norm_wr = best_wr / norm_r\n",
    "\n",
    "x = d_b[:, :-1]\n",
    "y = d_b[:, -1]\n",
    "best_wb = gradient_descent(softmax, 0.01, 800, w)\n",
    "norm_b = np.sqrt(np.sum((best_wb[1:]**2)))\n",
    "norm_wb = best_wb / norm_b\n",
    "\n",
    "x = d_g[:, :-1]\n",
    "y = d_g[:, -1]\n",
    "best_wg = gradient_descent(softmax, 0.01, 800, w)\n",
    "norm_g = np.sqrt(np.sum((best_wg[1:]**2)))\n",
    "norm_wg = best_wg / norm_g\n",
    "\n",
    "#calculate class\n",
    "def classify(points):\n",
    "    cur = []\n",
    "    for i in range(3):\n",
    "        if (i == 0):\n",
    "            cur.append(norm_wr[0] + np.dot(norm_wr[1:], points))\n",
    "        elif (i == 1):\n",
    "            cur.append(norm_wb[0] + np.dot(norm_wb[1:], points))\n",
    "        else:\n",
    "            cur.append(norm_wg[0] + np.dot(norm_wg[1:], points))\n",
    "    return np.argmax(cur) + 1\n",
    "\n",
    "# plot\n",
    "\n",
    "x = np.linspace(0, 1, 80)\n",
    "y = np.linspace(0, 1, 80)\n",
    "\n",
    "\n",
    "fig, ax = plt.subplots(1, 1, figsize=(4,4))\n",
    "for i in x:\n",
    "    for j in y:\n",
    "        points = [i, j]\n",
    "        if (classify(points) == 1):\n",
    "            ax.scatter(i, j,color = 'lightpink')\n",
    "        elif (classify(points) == 2):\n",
    "            ax.scatter(i, j,color = 'lightskyblue')\n",
    "        else:\n",
    "            ax.scatter(i, j,color = 'lightgreen')\n",
    "\n",
    "for i in range(len(data[:,2])):\n",
    "    if (data[i][2] == 1):\n",
    "        ax.scatter(data[i][0],data[i][1],color = 'r',edgecolor = 'k')\n",
    "    if (data[i][2] == 2):\n",
    "        ax.scatter(data[i][0],data[i][1],color = 'b',edgecolor = 'k')\n",
    "    if (data[i][2] == 3):\n",
    "        ax.scatter(data[i][0],data[i][1],color = 'g',edgecolor = 'k')\n",
    "plt.show()"
   ]
  },
  {
   "cell_type": "markdown",
   "metadata": {},
   "source": [
    "#### <span style=\"color:#a50e3e;\">Exercise 4. </span>   A nonlinear two-class dataset"
   ]
  },
  {
   "cell_type": "markdown",
   "metadata": {},
   "source": [
    "Propose a nonlinear feature transformation and integrate it into your two-class classification scheme in order to adequately classify the dataset shown below - located in the file *bricks.csv'.  With the right transformation you should be able to classify this quite well."
   ]
  },
  {
   "cell_type": "markdown",
   "metadata": {},
   "source": [
    "<p>\n",
    "  <img src= 'brick_pick.png' width=\"40%\" height=\"40%\" alt=\"\"/>\n",
    "</p>"
   ]
  },
  {
   "cell_type": "code",
   "execution_count": 3,
   "metadata": {},
   "outputs": [
    {
     "data": {
      "image/png": "[encoded data removed]",
      "text/plain": [
       "<matplotlib.figure.Figure at 0x110dcacf8>"
      ]
     },
     "metadata": {},
     "output_type": "display_data"
    }
   ],
   "source": [
    "import autograd.numpy as np\n",
    "import matplotlib.pyplot as plt\n",
    "from autograd import grad\n",
    "\n",
    "# data input\n",
    "csvname = 'bricks.csv'\n",
    "data = np.loadtxt(csvname,delimiter = ',')\n",
    "\n",
    "\n",
    "D = 4\n",
    "#softmax cost function\n",
    "\n",
    "x = data[:, :-1]\n",
    "y = data[:, -1]\n",
    "\n",
    "for i in range(len(x[:,0])):\n",
    "    x[i][0], x[i][1] = x[i][1], x[i][0]\n",
    "    \n",
    "w = np.random.randn(D+1,1)     # initial point for optimization\n",
    "\n",
    "# polynomial degree parameter\n",
    "\n",
    "\n",
    "# prediction function\n",
    "def predict(pt,w):\n",
    "    # linear combo\n",
    "    a = w[0] + sum([w[i]*pt**i for i in range(1,D+1)])\n",
    "    \n",
    "    return a\n",
    "\n",
    "def softmax(w):\n",
    "    cost = 0\n",
    "    \n",
    "    for p in range(len(y)):\n",
    "        x_p = x[p]\n",
    "        y_p = y[p]\n",
    "        \n",
    "        predict_v = w[0] + sum([w[i]*x_p[0]**i for i in range(1,D+1)])\n",
    "        cost += np.log(1 + np.exp(-y_p * predict_v))\n",
    "        \n",
    "    return cost\n",
    "\n",
    "# gradient_descent function:\n",
    "def gradient_descent(g,alpha,max_its,w):\n",
    "    # compute the gradient of our input function - note this is a function too!\n",
    "    gradient = grad(g)\n",
    "\n",
    "    # run the gradient descent loop\n",
    "    best_w = w        # weight we return, should be the one providing lowest evaluation\n",
    "    best_eval = g(w)       # lowest evaluation yet\n",
    "    for k in range(max_its):\n",
    "        # evaluate the gradient\n",
    "        grad_eval = gradient(w)\n",
    "\n",
    "        # take gradient descent step\n",
    "        w = w - alpha*grad_eval\n",
    "\n",
    "        # return only the weight providing the lowest evaluation\n",
    "        test_eval = g(w)\n",
    "        if test_eval < best_eval:\n",
    "            best_eval = test_eval\n",
    "            best_w = w\n",
    "            \n",
    "    return best_w\n",
    "\n",
    "\n",
    "best_w = gradient_descent(softmax, 0.01, 600, w)\n",
    "\n",
    "#plot\n",
    "fig, ax = plt.subplots(1, 1, figsize=(4,4))\n",
    "\n",
    "for i in range(len(x[:,0])):\n",
    "    x[i][0], x[i][1] = x[i][1], x[i][0]\n",
    "\n",
    "for i in range(len(data[:,2])):\n",
    "    if (data[i][2] == 1):\n",
    "        ax.scatter(data[i][0],data[i][1],color = 'pink',edgecolor = 'k')\n",
    "    if (data[i][2] == -1):\n",
    "        ax.scatter(data[i][0],data[i][1],color = 'skyblue',edgecolor = 'k')\n",
    "\n",
    "x_vals = np.linspace(-0.75,0.75,100)\n",
    "y_vals = [predict(v,best_w) for v in x_vals]\n",
    "\n",
    "\n",
    "ax.plot(y_vals,x_vals,color = 'r')\n",
    "plt.show()"
   ]
  },
  {
   "cell_type": "code",
   "execution_count": null,
   "metadata": {
    "collapsed": true
   },
   "outputs": [],
   "source": []
  }
 ],
 "metadata": {
  "anaconda-cloud": {},
  "kernelspec": {
   "display_name": "Python 3",
   "language": "python",
   "name": "python3"
  },
  "language_info": {
   "codemirror_mode": {
    "name": "ipython",
    "version": 3
   },
   "file_extension": ".py",
   "mimetype": "text/x-python",
   "name": "python",
   "nbconvert_exporter": "python",
   "pygments_lexer": "ipython3",
   "version": "3.6.2"
  },
  "toc": {
   "colors": {
    "hover_highlight": "#DAA520",
    "navigate_num": "#000000",
    "navigate_text": "#333333",
    "running_highlight": "#FF0000",
    "selected_highlight": "#FFD700",
    "sidebar_border": "#EEEEEE",
    "wrapper_background": "#FFFFFF"
   },
   "moveMenuLeft": true,
   "nav_menu": {
    "height": "30px",
    "width": "252px"
   },
   "navigate_menu": true,
   "number_sections": false,
   "sideBar": true,
   "threshold": 4,
   "toc_cell": false,
   "toc_section_display": "block",
   "toc_window_display": false,
   "widenNotebook": false
  }
 },
 "nbformat": 4,
 "nbformat_minor": 1
}
